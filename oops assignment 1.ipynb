{
 "cells": [
  {
   "cell_type": "markdown",
   "id": "79cdaec1-6442-46dc-8694-0c75f1d3ebed",
   "metadata": {},
   "source": [
    "   QUESTION 1\n",
    "   \n",
    "   \n",
    "CLASS IN PYTHON IS NOTHIING BUT BLUEPRINT OF OBJECTS.\n",
    "FOR EX:- IN A HOUSE THERE ARE FLOORS,WINDOWS,GATES ETC.SINCE BASED ON THESE WE BUILD A HOUSE.HERE HOUSE IS THE OBJECT.\n",
    "SIMILARLY, MANY HOUSES CAN BE MADE FROM THE SAME . HENCE JUST LIKE THAT WE CAN WE CAN CREATE MANY OBJECTS FROM A CLASS.\n",
    "EVERY CLASS IS CALLED BY AN VARIABLE KNOWN AS OBJECT."
   ]
  },
  {
   "cell_type": "code",
   "execution_count": 10,
   "id": "dd36894c-8c24-41e5-b71e-390fae7a437d",
   "metadata": {},
   "outputs": [],
   "source": [
    "class house:\n",
    "    def __init__(self):\n",
    "        print(\"this is my house\")\n",
    "    \n",
    "        \n",
    "    "
   ]
  },
  {
   "cell_type": "code",
   "execution_count": 12,
   "id": "c690a47a-8b1f-40e0-a656-8423a0129408",
   "metadata": {},
   "outputs": [
    {
     "name": "stdout",
     "output_type": "stream",
     "text": [
      "this is my house\n"
     ]
    }
   ],
   "source": [
    "house_obj=house()"
   ]
  },
  {
   "cell_type": "code",
   "execution_count": 13,
   "id": "8955864b-686e-4933-87f0-a150f5df6c77",
   "metadata": {},
   "outputs": [],
   "source": [
    "class house:\n",
    "    def __init__(self,area):\n",
    "        self.area=area\n",
    "        \n",
    "        "
   ]
  },
  {
   "cell_type": "code",
   "execution_count": 20,
   "id": "fb6ade8c-961d-4b30-a53c-2877d7ee0e54",
   "metadata": {},
   "outputs": [],
   "source": [
    "house_obj=house(234)"
   ]
  },
  {
   "cell_type": "code",
   "execution_count": 21,
   "id": "a10a92e0-1205-4271-834a-5b9eb3815899",
   "metadata": {},
   "outputs": [
    {
     "data": {
      "text/plain": [
       "234"
      ]
     },
     "execution_count": 21,
     "metadata": {},
     "output_type": "execute_result"
    }
   ],
   "source": [
    "house_obj.area"
   ]
  },
  {
   "cell_type": "markdown",
   "id": "fa4f807b-a495-41fe-8c8c-ad1857b27cfa",
   "metadata": {},
   "source": [
    "QUESTION 2\n",
    "\n",
    "POLYMORPHISM\n",
    "\n",
    "ENCAPSULATION\n",
    "\n",
    "ABSTRACTION\n",
    "\n",
    "INHERITENCE"
   ]
  },
  {
   "cell_type": "markdown",
   "id": "b5f89a15-d62d-4136-991e-97eb71a86db9",
   "metadata": {},
   "source": [
    "QUESTION 3\n",
    "\n",
    "\"__init__\" is a reseved method in python classes. It is called as a constructor in object oriented programming. This method is called when an object is created from a class and it allows the class to initialize the attributes of the class."
   ]
  },
  {
   "cell_type": "code",
   "execution_count": 26,
   "id": "976bf5b9-4f1a-45b4-bc4c-b02029b37538",
   "metadata": {},
   "outputs": [],
   "source": [
    "class factory():\n",
    "    def __init__(self,no_of_men,no_of_women,average_time_spend):\n",
    "        self.no_of_men=no_of_men\n",
    "        self.no_of_women=no_of_women\n",
    "        self.average_time_spend=average_time_spend\n",
    "        \n",
    "    def details_factory_members(self):\n",
    "        return  self.no_of_men,self.no_of_women,self.average_time_spend\n",
    "    \n",
    "    "
   ]
  },
  {
   "cell_type": "code",
   "execution_count": 27,
   "id": "b91c9689-720e-4c75-abdf-8ef16d9efcf1",
   "metadata": {},
   "outputs": [],
   "source": [
    "obj_fac=factory(45,40,12)"
   ]
  },
  {
   "cell_type": "code",
   "execution_count": 28,
   "id": "627a06b2-8d87-4e4a-a8d6-17b3c4fe8a7c",
   "metadata": {},
   "outputs": [
    {
     "data": {
      "text/plain": [
       "12"
      ]
     },
     "execution_count": 28,
     "metadata": {},
     "output_type": "execute_result"
    }
   ],
   "source": [
    "obj_fac.average_time_spend"
   ]
  },
  {
   "cell_type": "code",
   "execution_count": 29,
   "id": "b15a5761-8c10-4dd2-96af-5160a9d878bd",
   "metadata": {},
   "outputs": [
    {
     "data": {
      "text/plain": [
       "45"
      ]
     },
     "execution_count": 29,
     "metadata": {},
     "output_type": "execute_result"
    }
   ],
   "source": [
    "obj_fac.no_of_men"
   ]
  },
  {
   "cell_type": "code",
   "execution_count": 30,
   "id": "bc692f6e-587e-403f-9801-89090caa7cb2",
   "metadata": {},
   "outputs": [
    {
     "data": {
      "text/plain": [
       "40"
      ]
     },
     "execution_count": 30,
     "metadata": {},
     "output_type": "execute_result"
    }
   ],
   "source": [
    "obj_fac.no_of_women"
   ]
  },
  {
   "cell_type": "markdown",
   "id": "f1c4b103-521a-40db-ae2c-160406200f4a",
   "metadata": {},
   "source": [
    "QUESTION 4\n",
    "\n",
    "\n",
    "The self parameter is a reference to the current instance of the class, and is used to access variables that belongs to the class."
   ]
  },
  {
   "cell_type": "markdown",
   "id": "756819df-42be-4efc-9677-b24fa778c1ff",
   "metadata": {},
   "source": [
    "QUESTION 5\n",
    "\n",
    "INHERITENCE:-When a class derives from another class, the child class will inherit all the public and protected properties and methods from the parent class."
   ]
  },
  {
   "cell_type": "code",
   "execution_count": 1,
   "id": "0260bd7e-5f87-4c8a-a351-ec799e96ead9",
   "metadata": {},
   "outputs": [],
   "source": [
    "## SINGLE INHERITENCE\n",
    "\n",
    "class pwskills():\n",
    "    def course_name(self):\n",
    "        print(\"this is data science masters2.0 batch\")"
   ]
  },
  {
   "cell_type": "code",
   "execution_count": 3,
   "id": "7e228ea9-8326-42be-b7fa-2acba87c39b0",
   "metadata": {},
   "outputs": [],
   "source": [
    "class child_pwskills(pwskills):\n",
    "    pass"
   ]
  },
  {
   "cell_type": "code",
   "execution_count": 4,
   "id": "178f226d-2087-4939-96c9-85a53665c568",
   "metadata": {},
   "outputs": [],
   "source": [
    "obj_child_pwskills=child_pwskills()"
   ]
  },
  {
   "cell_type": "code",
   "execution_count": 7,
   "id": "6b42e396-ae59-4f4c-889f-27cf033187ff",
   "metadata": {},
   "outputs": [
    {
     "name": "stdout",
     "output_type": "stream",
     "text": [
      "this is data science masters2.0 batch\n"
     ]
    }
   ],
   "source": [
    "obj_child_pwskills.course_name()"
   ]
  },
  {
   "cell_type": "code",
   "execution_count": 45,
   "id": "f503f4ba-a36f-42e4-951f-f3e3f56031ab",
   "metadata": {},
   "outputs": [],
   "source": [
    "## MULTIPLE INHERITENCE\n",
    "\n",
    "class father():\n",
    "    def father_name(self):\n",
    "        print(\"my father name is ABC\")\n",
    "    "
   ]
  },
  {
   "cell_type": "code",
   "execution_count": 47,
   "id": "6a02aaca-aa13-4e50-9530-a4870a53b411",
   "metadata": {},
   "outputs": [],
   "source": [
    "class mother():\n",
    "    def mother_name(self):\n",
    "        print(\"my mother name is XYZ\")\n",
    "     "
   ]
  },
  {
   "cell_type": "code",
   "execution_count": 49,
   "id": "c7261c82-0c2d-4896-a827-8028445c0546",
   "metadata": {},
   "outputs": [],
   "source": [
    "class child(mother,father):\n",
    "    def parents(self):\n",
    "        pass\n",
    "        "
   ]
  },
  {
   "cell_type": "code",
   "execution_count": 50,
   "id": "41a501c9-0390-4479-a3c9-f181f308b3d9",
   "metadata": {},
   "outputs": [],
   "source": [
    "c=child()"
   ]
  },
  {
   "cell_type": "code",
   "execution_count": 51,
   "id": "48017d63-5ef1-4b4f-a530-9230b666afe1",
   "metadata": {},
   "outputs": [
    {
     "name": "stdout",
     "output_type": "stream",
     "text": [
      "my father name is ABC\n"
     ]
    }
   ],
   "source": [
    "c.father_name()"
   ]
  },
  {
   "cell_type": "code",
   "execution_count": 52,
   "id": "75470033-23f2-468a-96d1-f09ced187df3",
   "metadata": {},
   "outputs": [
    {
     "name": "stdout",
     "output_type": "stream",
     "text": [
      "my mother name is XYZ\n"
     ]
    }
   ],
   "source": [
    "c.mother_name()"
   ]
  },
  {
   "cell_type": "code",
   "execution_count": 53,
   "id": "9503ef08-0ab1-431b-9a23-36560e618598",
   "metadata": {},
   "outputs": [],
   "source": [
    "## MULTILEVEL INHERITENCE\n",
    "\n",
    "\n",
    "class company():\n",
    "    def data_scientist(self):\n",
    "        print (\"they are data scientists\")"
   ]
  },
  {
   "cell_type": "code",
   "execution_count": 54,
   "id": "6ef2c7ef-7a8c-4f07-b459-ababf2f45008",
   "metadata": {},
   "outputs": [],
   "source": [
    "class floor(company):\n",
    "    def data_analyst(self):\n",
    "        print (\"they are data analysts\")"
   ]
  },
  {
   "cell_type": "code",
   "execution_count": 55,
   "id": "648c5d21-8fa8-4f85-a5e4-0d172675044d",
   "metadata": {},
   "outputs": [],
   "source": [
    "class dept(floor):\n",
    "    def market_team(self):\n",
    "        pass"
   ]
  },
  {
   "cell_type": "code",
   "execution_count": 57,
   "id": "8b18f231-58a2-42b5-92a3-285f2ac8b891",
   "metadata": {},
   "outputs": [],
   "source": [
    "dept_obj=dept()"
   ]
  },
  {
   "cell_type": "code",
   "execution_count": null,
   "id": "9d34e75f-272c-4ade-84e0-2fac713acfbe",
   "metadata": {},
   "outputs": [],
   "source": [
    "dept_obj"
   ]
  },
  {
   "cell_type": "code",
   "execution_count": null,
   "id": "e94fd178-96fc-4994-bce9-013e877e57fd",
   "metadata": {},
   "outputs": [],
   "source": []
  }
 ],
 "metadata": {
  "kernelspec": {
   "display_name": "Python 3 (ipykernel)",
   "language": "python",
   "name": "python3"
  },
  "language_info": {
   "codemirror_mode": {
    "name": "ipython",
    "version": 3
   },
   "file_extension": ".py",
   "mimetype": "text/x-python",
   "name": "python",
   "nbconvert_exporter": "python",
   "pygments_lexer": "ipython3",
   "version": "3.10.8"
  }
 },
 "nbformat": 4,
 "nbformat_minor": 5
}
